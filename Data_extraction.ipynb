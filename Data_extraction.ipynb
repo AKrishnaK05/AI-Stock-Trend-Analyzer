{
 "cells": [
  {
   "cell_type": "code",
   "execution_count": 3,
   "metadata": {},
   "outputs": [
    {
     "name": "stdout",
     "output_type": "stream",
     "text": [
      "Stock data saved to stock_data.csv\n"
     ]
    }
   ],
   "source": [
    "import yfinance as yf  \n",
    "import pandas as pd\n",
    "import time\n",
    "\n",
    "stocks = (\"TCS.NS\", \"INFY.NS\", \"RELIANCE.NS\", \"HDFCBANK.NS\", \"ICICIBANK.NS\", \n",
    "    \"SBIN.NS\", \"BHARTIARTL.NS\", \"KOTAKBANK.NS\", \"AXISBANK.NS\", \"LT.NS\",\n",
    "    \"ITC.NS\", \"HINDUNILVR.NS\", \"ASIANPAINT.NS\", \"MARUTI.NS\", \"SUNPHARMA.NS\",\n",
    "    \"WIPRO.NS\", \"TITAN.NS\", \"BAJFINANCE.NS\", \"HCLTECH.NS\", \"ULTRACEMCO.NS\",\n",
    "    \"NTPC.NS\", \"ONGC.NS\", \"POWERGRID.NS\", \"COALINDIA.NS\", \"NESTLEIND.NS\",\n",
    "    \"JSWSTEEL.NS\", \"TATAMOTORS.NS\", \"GRASIM.NS\", \"HDFCLIFE.NS\", \"DIVISLAB.NS\",\n",
    "    \"ADANIPORTS.NS\", \"EICHERMOT.NS\", \"DRREDDY.NS\", \"BAJAJFINSV.NS\", \"HEROMOTOCO.NS\",\n",
    "    \"CIPLA.NS\", \"BRITANNIA.NS\", \"SHREECEM.NS\", \"INDUSINDBK.NS\", \"TECHM.NS\",\n",
    "    \"UPL.NS\", \"HAVELLS.NS\", \"DABUR.NS\", \"PIDILITIND.NS\", \"M&M.NS\",\n",
    "    \"TATASTEEL.NS\", \"BPCL.NS\", \"IOC.NS\", \"VEDL.NS\", \"SIEMENS.NS\") \n",
    "\n",
    "all_data = []  \n",
    "\n",
    "for stock in stocks:  \n",
    "    ticker = yf.Ticker(stock)  \n",
    "    data = ticker.history(period=\"10y\")\n",
    "    data[\"Stock\"] = stock\n",
    "    all_data.append(data)\n",
    "\n",
    "df = pd.concat(all_data)  \n",
    "\n",
    "df.to_csv(\"stock_data.csv\")  \n",
    "print(\"Stock data saved to stock_data.csv\")  \n"
   ]
  }
 ],
 "metadata": {
  "kernelspec": {
   "display_name": "base",
   "language": "python",
   "name": "python3"
  },
  "language_info": {
   "codemirror_mode": {
    "name": "ipython",
    "version": 3
   },
   "file_extension": ".py",
   "mimetype": "text/x-python",
   "name": "python",
   "nbconvert_exporter": "python",
   "pygments_lexer": "ipython3",
   "version": "3.11.5"
  }
 },
 "nbformat": 4,
 "nbformat_minor": 2
}

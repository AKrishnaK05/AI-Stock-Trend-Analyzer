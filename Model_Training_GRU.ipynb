{
 "cells": [
  {
   "cell_type": "code",
   "execution_count": 9,
   "id": "2c95ae82",
   "metadata": {},
   "outputs": [],
   "source": [
    "import pandas as pd\n",
    "import numpy as np\n",
    "import joblib\n",
    "from tensorflow.keras.models import Sequential\n",
    "from tensorflow.keras.layers import GRU, Dense, Dropout\n",
    "import os"
   ]
  },
  {
   "cell_type": "code",
   "execution_count": 10,
   "id": "d1bc4d45",
   "metadata": {},
   "outputs": [],
   "source": [
    "STOCKS_TO_TRAIN = ['RELIANCE.NS', 'TCS.NS', 'INFY.NS'] \n",
    "os.makedirs('models', exist_ok=True)\n",
    "time_step = 60"
   ]
  },
  {
   "cell_type": "code",
   "execution_count": 11,
   "id": "4b90579a",
   "metadata": {},
   "outputs": [
    {
     "name": "stdout",
     "output_type": "stream",
     "text": [
      "\n",
      "--- Training model for RELIANCE.NS ---\n"
     ]
    },
    {
     "name": "stderr",
     "output_type": "stream",
     "text": [
      "c:\\Users\\adwai\\anaconda3\\Lib\\site-packages\\keras\\src\\layers\\rnn\\rnn.py:199: UserWarning: Do not pass an `input_shape`/`input_dim` argument to a layer. When using Sequential models, prefer using an `Input(shape)` object as the first layer in the model instead.\n",
      "  super().__init__(**kwargs)\n",
      "WARNING:absl:You are saving your model as an HDF5 file via `model.save()` or `keras.saving.save_model(model)`. This file format is considered legacy. We recommend using instead the native Keras format, e.g. `model.save('my_model.keras')` or `keras.saving.save_model(model, 'my_model.keras')`. \n",
      "c:\\Users\\adwai\\anaconda3\\Lib\\site-packages\\keras\\src\\layers\\rnn\\rnn.py:199: UserWarning: Do not pass an `input_shape`/`input_dim` argument to a layer. When using Sequential models, prefer using an `Input(shape)` object as the first layer in the model instead.\n",
      "  super().__init__(**kwargs)\n"
     ]
    },
    {
     "name": "stdout",
     "output_type": "stream",
     "text": [
      "Model for RELIANCE.NS trained and saved to 'models' folder.\n",
      "\n",
      "--- Training model for TCS.NS ---\n"
     ]
    },
    {
     "name": "stderr",
     "output_type": "stream",
     "text": [
      "WARNING:absl:You are saving your model as an HDF5 file via `model.save()` or `keras.saving.save_model(model)`. This file format is considered legacy. We recommend using instead the native Keras format, e.g. `model.save('my_model.keras')` or `keras.saving.save_model(model, 'my_model.keras')`. \n",
      "c:\\Users\\adwai\\anaconda3\\Lib\\site-packages\\keras\\src\\layers\\rnn\\rnn.py:199: UserWarning: Do not pass an `input_shape`/`input_dim` argument to a layer. When using Sequential models, prefer using an `Input(shape)` object as the first layer in the model instead.\n",
      "  super().__init__(**kwargs)\n"
     ]
    },
    {
     "name": "stdout",
     "output_type": "stream",
     "text": [
      "Model for TCS.NS trained and saved to 'models' folder.\n",
      "\n",
      "--- Training model for INFY.NS ---\n"
     ]
    },
    {
     "name": "stderr",
     "output_type": "stream",
     "text": [
      "WARNING:absl:You are saving your model as an HDF5 file via `model.save()` or `keras.saving.save_model(model)`. This file format is considered legacy. We recommend using instead the native Keras format, e.g. `model.save('my_model.keras')` or `keras.saving.save_model(model, 'my_model.keras')`. \n"
     ]
    },
    {
     "name": "stdout",
     "output_type": "stream",
     "text": [
      "Model for INFY.NS trained and saved to 'models' folder.\n"
     ]
    }
   ],
   "source": [
    "for ticker in STOCKS_TO_TRAIN:\n",
    "    print(f\"\\n--- Training model for {ticker} ---\")\n",
    "    \n",
    "    try:\n",
    "        # Load the specific scaled data for this stock\n",
    "        scaled_data = pd.read_csv(f\"{ticker}_scaled_data.csv\").values\n",
    "        \n",
    "        # Create data windows\n",
    "        X, y = [], []\n",
    "        for i in range(time_step, len(scaled_data)):\n",
    "            X.append(scaled_data[i-time_step:i, 0])\n",
    "            y.append(scaled_data[i, 0])\n",
    "        \n",
    "        X, y = np.array(X), np.array(y)\n",
    "        X = np.reshape(X, (X.shape[0], X.shape[1], 1))\n",
    "        \n",
    "        # Split data\n",
    "        train_size = int(len(X) * 0.8)\n",
    "        X_train, X_test = X[0:train_size], X[train_size:len(X)]\n",
    "        y_train, y_test = y[0:train_size], y[train_size:len(y)]\n",
    "\n",
    "        # Build and Train the GRU Model\n",
    "        model = Sequential([\n",
    "            GRU(50, return_sequences=True, input_shape=(time_step, 1)),\n",
    "            Dropout(0.2),\n",
    "            GRU(50, return_sequences=False),\n",
    "            Dropout(0.2),\n",
    "            Dense(1)\n",
    "        ])\n",
    "        model.compile(optimizer='adam', loss='mean_squared_error')\n",
    "        model.fit(X_train, y_train, epochs=20, batch_size=32, verbose=0) # verbose=0 to keep output clean\n",
    "        \n",
    "        # Save the unique model for this stock\n",
    "        model.save(f\"models/{ticker}_model.h5\")\n",
    "        print(f\"Model for {ticker} trained and saved to 'models' folder.\")\n",
    "\n",
    "    except FileNotFoundError:\n",
    "        print(f\"Scaled data for {ticker} not found. Please run the data preparation script first.\")\n",
    "    except Exception as e:\n",
    "        print(f\"An error occurred for {ticker}: {e}\")\n"
   ]
  }
 ],
 "metadata": {
  "kernelspec": {
   "display_name": "base",
   "language": "python",
   "name": "python3"
  },
  "language_info": {
   "codemirror_mode": {
    "name": "ipython",
    "version": 3
   },
   "file_extension": ".py",
   "mimetype": "text/x-python",
   "name": "python",
   "nbconvert_exporter": "python",
   "pygments_lexer": "ipython3",
   "version": "3.11.5"
  }
 },
 "nbformat": 4,
 "nbformat_minor": 5
}

{
 "cells": [
  {
   "cell_type": "code",
   "execution_count": 8,
   "id": "7c1908b2",
   "metadata": {},
   "outputs": [],
   "source": [
    "import pandas as pd\n",
    "from sklearn.preprocessing import MinMaxScaler\n",
    "import joblib\n",
    "import os"
   ]
  },
  {
   "cell_type": "code",
   "execution_count": 9,
   "id": "8f4f4d9d",
   "metadata": {},
   "outputs": [],
   "source": [
    "STOCKS_TO_TRAIN = ['RELIANCE.NS', 'TCS.NS', 'INFY.NS']\n",
    "os.makedirs('scalers', exist_ok=True)"
   ]
  },
  {
   "cell_type": "code",
   "execution_count": 10,
   "id": "020ebf50",
   "metadata": {},
   "outputs": [],
   "source": [
    "df = pd.read_csv('stock_data.csv',parse_dates=['Date'])"
   ]
  },
  {
   "cell_type": "code",
   "execution_count": 11,
   "id": "495fa5ee",
   "metadata": {},
   "outputs": [
    {
     "name": "stdout",
     "output_type": "stream",
     "text": [
      "--- Preparing data for RELIANCE.NS ---\n",
      "Saved scaler for RELIANCE.NS to 'scalers' folder.\n",
      "--- Preparing data for TCS.NS ---\n",
      "Saved scaler for TCS.NS to 'scalers' folder.\n",
      "--- Preparing data for INFY.NS ---\n",
      "Saved scaler for INFY.NS to 'scalers' folder.\n"
     ]
    }
   ],
   "source": [
    "for ticker in STOCKS_TO_TRAIN:\n",
    "    print(f\"--- Preparing data for {ticker} ---\")\n",
    "    \n",
    "    single_stock_data = df[df['Stock'] == ticker].copy()\n",
    "    single_stock_data.sort_values(by='Date', inplace=True)\n",
    "    \n",
    "    if len(single_stock_data) > 0:\n",
    "        close_data = single_stock_data[['Close']]\n",
    "        scaler = MinMaxScaler(feature_range=(0, 1))\n",
    "        \n",
    "        # Save the scaled data and the unique scaler for this stock\n",
    "        scaled_data = scaler.fit_transform(close_data)\n",
    "        pd.DataFrame(scaled_data).to_csv(f\"{ticker}_scaled_data.csv\", index=False)\n",
    "        joblib.dump(scaler, f\"scalers/{ticker}_scaler.joblib\")\n",
    "        print(f\"Saved scaler for {ticker} to 'scalers' folder.\")\n",
    "    else:\n",
    "        print(f\"No data found for {ticker}, skipping.\")"
   ]
  }
 ],
 "metadata": {
  "kernelspec": {
   "display_name": "base",
   "language": "python",
   "name": "python3"
  },
  "language_info": {
   "codemirror_mode": {
    "name": "ipython",
    "version": 3
   },
   "file_extension": ".py",
   "mimetype": "text/x-python",
   "name": "python",
   "nbconvert_exporter": "python",
   "pygments_lexer": "ipython3",
   "version": "3.11.5"
  }
 },
 "nbformat": 4,
 "nbformat_minor": 5
}
